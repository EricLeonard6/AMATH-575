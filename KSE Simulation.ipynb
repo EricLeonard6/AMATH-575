{
 "cells": [
  {
   "cell_type": "code",
   "execution_count": 1,
   "id": "351832d7-fb3b-426c-a39a-21df571db337",
   "metadata": {},
   "outputs": [],
   "source": [
    "import numpy as np\n",
    "import scipy as sp"
   ]
  },
  {
   "cell_type": "code",
   "execution_count": 2,
   "id": "2327f6bb-2416-489f-8aed-e0d65eceaf22",
   "metadata": {},
   "outputs": [],
   "source": [
    "#Simulation Setting: Lx = 22, Lt = 5000, dx=22/1024, dt = 0.025\n",
    "def ksintegrateNaive(u, Lx, dt, Nt, nplot):\n",
    "    Nx = u.shape[0]                 # number of gridpoints\n",
    "    kx = np.hstack([np.arange(0,Nx/2,1), \\\n",
    "                    np.array([0]), \\\n",
    "                    np.arange(-Nx/2+1,0,1)])  # integer wavenumbers: exp(2*pi*i*kx*x/L)\n",
    "    alpha = 2.*np.pi*kx/Lx              # real wavenumbers:    exp(i*alpha*x)\n",
    "    D = 1j*alpha                   # D = d/dx operator in Fourier space\n",
    "    L = alpha**2 - alpha**4        # linear operator -D^2 - D^4 in Fourier space\n",
    "    G = -0.5*D                      # -1/2 D operator in Fourier space\n",
    "    Nplot = int(Nt/nplot) +1  # total number of saved time steps\n",
    "\n",
    "    x = np.arange(0,Nx,1) * Lx/Nx\n",
    "    t = np.arange(0,Nplot,1)*dt*nplot\n",
    "    U = np.zeros((Nplot, Nx))\n",
    "\n",
    "    # some convenience variables\n",
    "    dt2  = dt/2.\n",
    "    dt32 = 3.*dt/2.\n",
    "    A =  np.ones(Nx) + dt2*L\n",
    "    B = (np.ones(Nx) - dt2*L)**(-1)\n",
    "\n",
    "    Nn  = G * sp.fftpack.fft(u*u) # -1/2 d/dx(u^2) = -u u_x, collocation calculation\n",
    "    Nn1 = Nn\n",
    "\n",
    "    U[0,:] = u # save initial value u to matrix U\n",
    "    npl = 1     # counter for saved data\n",
    "\n",
    "    # transform data to spectral coeffs\n",
    "    u = sp.fftpack.fft(u)\n",
    "\n",
    "    # timestepping loop\n",
    "    for n in range(Nt):\n",
    "        Nn1 = Nn                       # shift N^{n-1} <- N^n\n",
    "        Nn  = G * sp.fftpack.fft(np.real(sp.fftpack.ifft(u))**2) # compute N^n = -u u_x\n",
    "\n",
    "        u = B * (A * u + dt32*Nn - dt2*Nn1) # CNAB2 formula\n",
    "\n",
    "        if n % nplot == 0:\n",
    "            U[npl,:] = np.real(sp.fftpack.ifft(u))\n",
    "            npl += 1\n",
    "    return U, x, t\n",
    "\n",
    "\n",
    "\n",
    "Lx = 22\n",
    "Nx = 1024\n",
    "x = Lx*np.arange(0, Nx, 1)/Nx\n",
    "Lt = 5000\n",
    "dt = 0.025\n",
    "Nt = int(Lt/dt)\n",
    "nplot = 10\n",
    "u0 = 0.1*np.cos(x/16.)*(1.+2.*np.sin(x/16.))\n",
    "\n",
    "\n",
    "u_data, x, t = ksintegrateNaive(u0, Lx, dt, Nt, nplot)\n",
    "u_data = u_data[:-1]\n",
    "t = t[:-1]\n",
    "\n",
    "\n",
    "with open(\"KSE_data.npy\", \"wb\") as f:\n",
    "    np.save(f, u_data)"
   ]
  },
  {
   "cell_type": "code",
   "execution_count": null,
   "id": "ca269f34-3a7a-4e57-8554-43c37c78be0a",
   "metadata": {},
   "outputs": [],
   "source": []
  }
 ],
 "metadata": {
  "kernelspec": {
   "display_name": "Python 3 (ipykernel)",
   "language": "python",
   "name": "python3"
  },
  "language_info": {
   "codemirror_mode": {
    "name": "ipython",
    "version": 3
   },
   "file_extension": ".py",
   "mimetype": "text/x-python",
   "name": "python",
   "nbconvert_exporter": "python",
   "pygments_lexer": "ipython3",
   "version": "3.11.3"
  }
 },
 "nbformat": 4,
 "nbformat_minor": 5
}
